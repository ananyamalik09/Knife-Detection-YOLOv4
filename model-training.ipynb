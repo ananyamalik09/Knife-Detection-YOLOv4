{
 "cells": [
  {
   "cell_type": "markdown",
   "id": "a740b071",
   "metadata": {},
   "source": [
    "### Storing image and labels"
   ]
  },
  {
   "cell_type": "code",
   "execution_count": 2,
   "id": "3b7a3c89",
   "metadata": {},
   "outputs": [],
   "source": [
    "import os"
   ]
  },
  {
   "cell_type": "code",
   "execution_count": 3,
   "id": "00ff3a81",
   "metadata": {},
   "outputs": [
    {
     "data": {
      "text/plain": [
       "'c:\\\\Users\\\\anany\\\\Desktop\\\\project'"
      ]
     },
     "execution_count": 3,
     "metadata": {},
     "output_type": "execute_result"
    }
   ],
   "source": [
    "os.getcwd() "
   ]
  },
  {
   "cell_type": "code",
   "execution_count": 4,
   "id": "7c7e9ac4",
   "metadata": {},
   "outputs": [],
   "source": [
    "path_dataset=os.path.join('c:\\\\Users\\\\anany\\\\Desktop\\\\project','dataset') "
   ]
  },
  {
   "cell_type": "code",
   "execution_count": 5,
   "id": "c94c0d06",
   "metadata": {},
   "outputs": [
    {
     "data": {
      "text/plain": [
       "['without_knife', 'with_knife']"
      ]
     },
     "execution_count": 5,
     "metadata": {},
     "output_type": "execute_result"
    }
   ],
   "source": [
    "os.listdir(path_dataset)"
   ]
  },
  {
   "cell_type": "code",
   "execution_count": 6,
   "id": "97aadde0",
   "metadata": {},
   "outputs": [],
   "source": [
    "Target_variable = os.listdir(path_dataset)"
   ]
  },
  {
   "cell_type": "code",
   "execution_count": 8,
   "id": "a3f8766e",
   "metadata": {},
   "outputs": [
    {
     "name": "stdout",
     "output_type": "stream",
     "text": [
      "['without_knife', 'with_knife']\n"
     ]
    }
   ],
   "source": [
    "print(Target_variable)"
   ]
  },
  {
   "cell_type": "code",
   "execution_count": 6,
   "id": "6e34a270",
   "metadata": {},
   "outputs": [],
   "source": [
    "data = [] \n",
    "labels = [] "
   ]
  },
  {
   "cell_type": "code",
   "execution_count": 7,
   "id": "64100c22",
   "metadata": {},
   "outputs": [],
   "source": [
    "from tensorflow.keras.preprocessing.image import load_img\n",
    "from tensorflow.keras.preprocessing.image import img_to_array\n",
    "from tensorflow.keras.applications.mobilenet_v2 import preprocess_input"
   ]
  },
  {
   "cell_type": "code",
   "execution_count": 8,
   "id": "5cd10c78",
   "metadata": {},
   "outputs": [],
   "source": [
    "for target in Target_variable:\n",
    "    \n",
    "    path = os.path.join(path_dataset,target)   #We are inside the folder with_knife and without_knife\n",
    "    for img in os.listdir(path):      # We will get a list of images in the current path\n",
    "        img_path = os.path.join(path,img)\n",
    "        image = load_img(img_path,target_size = (224,224))  # Loads image with a target size\n",
    "        image = img_to_array(image)   # Converting image to an array.\n",
    "        image = preprocess_input(image)   # When we use mobilenets we have to preprocess_input\n",
    "        \n",
    "        data.append(image)\n",
    "        labels.append(target)\n",
    "    "
   ]
  },
  {
   "cell_type": "markdown",
   "id": "4137e1a8",
   "metadata": {},
   "source": [
    "### Converting labels into binary"
   ]
  },
  {
   "cell_type": "code",
   "execution_count": 9,
   "id": "fc5e8240",
   "metadata": {},
   "outputs": [],
   "source": [
    "from sklearn.preprocessing import LabelBinarizer"
   ]
  },
  {
   "cell_type": "code",
   "execution_count": 10,
   "id": "eaf7d59f",
   "metadata": {},
   "outputs": [],
   "source": [
    "lb = LabelBinarizer()\n",
    "labels = lb.fit_transform(labels)"
   ]
  },
  {
   "cell_type": "code",
   "execution_count": 11,
   "id": "f86e6683",
   "metadata": {},
   "outputs": [],
   "source": [
    "from tensorflow.keras.utils import to_categorical"
   ]
  },
  {
   "cell_type": "code",
   "execution_count": 12,
   "id": "e469497d",
   "metadata": {},
   "outputs": [],
   "source": [
    "labels = to_categorical(labels)"
   ]
  },
  {
   "cell_type": "markdown",
   "id": "b99b61dd",
   "metadata": {},
   "source": [
    "### Converting data and labels into array"
   ]
  },
  {
   "cell_type": "code",
   "execution_count": 13,
   "id": "36f9aea7",
   "metadata": {},
   "outputs": [],
   "source": [
    "import numpy as np"
   ]
  },
  {
   "cell_type": "code",
   "execution_count": 14,
   "id": "6ddfac0f",
   "metadata": {},
   "outputs": [],
   "source": [
    "data = np.array(data,dtype=\"float32\")"
   ]
  },
  {
   "cell_type": "code",
   "execution_count": 15,
   "id": "cab27f13",
   "metadata": {},
   "outputs": [],
   "source": [
    "labels = np.array(labels)"
   ]
  },
  {
   "cell_type": "markdown",
   "id": "45fb8a41",
   "metadata": {},
   "source": [
    "### Creating train test split"
   ]
  },
  {
   "cell_type": "code",
   "execution_count": 16,
   "id": "56556464",
   "metadata": {},
   "outputs": [],
   "source": [
    "from sklearn.model_selection import train_test_split"
   ]
  },
  {
   "cell_type": "code",
   "execution_count": 17,
   "id": "e1fc17f6",
   "metadata": {},
   "outputs": [],
   "source": [
    "X_train,X_test,y_train,y_test = train_test_split(data,labels,test_size=.20,stratify = labels,random_state=42)"
   ]
  },
  {
   "cell_type": "markdown",
   "id": "a0c67b56",
   "metadata": {},
   "source": [
    "### Generating augmented data as dataset is small."
   ]
  },
  {
   "cell_type": "code",
   "execution_count": 18,
   "id": "cd9bcaa2",
   "metadata": {},
   "outputs": [],
   "source": [
    "from tensorflow.keras.preprocessing.image import ImageDataGenerator"
   ]
  },
  {
   "cell_type": "code",
   "execution_count": 19,
   "id": "5cb528a7",
   "metadata": {},
   "outputs": [],
   "source": [
    "aug = ImageDataGenerator(\n",
    "    rotation_range=20,\n",
    "    zoom_range=0.15,\n",
    "    width_shift_range=0.2,\n",
    "    height_shift_range=0.2,\n",
    "    shear_range=0.15,\n",
    "    horizontal_flip=True,\n",
    "    fill_mode=\"nearest\")"
   ]
  },
  {
   "cell_type": "markdown",
   "id": "df2f86e5",
   "metadata": {},
   "source": [
    "### Training"
   ]
  },
  {
   "cell_type": "code",
   "execution_count": 20,
   "id": "aed40bc2",
   "metadata": {},
   "outputs": [],
   "source": [
    "Learning_rate = 1e-3 "
   ]
  },
  {
   "cell_type": "code",
   "execution_count": 21,
   "id": "9a24d900",
   "metadata": {},
   "outputs": [],
   "source": [
    "Epochs = 15"
   ]
  },
  {
   "cell_type": "code",
   "execution_count": 22,
   "id": "f961fbeb",
   "metadata": {},
   "outputs": [],
   "source": [
    "BS = 25"
   ]
  },
  {
   "cell_type": "code",
   "execution_count": 23,
   "id": "f2062ea5",
   "metadata": {},
   "outputs": [],
   "source": [
    "from tensorflow.keras.applications import MobileNetV2"
   ]
  },
  {
   "cell_type": "code",
   "execution_count": 24,
   "id": "91fa116a",
   "metadata": {},
   "outputs": [],
   "source": [
    "from tensorflow.keras.layers import Input"
   ]
  },
  {
   "cell_type": "code",
   "execution_count": 25,
   "id": "28011a7a",
   "metadata": {},
   "outputs": [
    {
     "name": "stdout",
     "output_type": "stream",
     "text": [
      "WARNING:tensorflow:`input_shape` is undefined or non-square, or `rows` is not in [96, 128, 160, 192, 224]. Weights for input shape (224, 224) will be loaded as the default.\n"
     ]
    }
   ],
   "source": [
    "base_model = MobileNetV2(weights = 'imagenet',include_top = False,input_tensor = Input(shape=(224,224,3)))"
   ]
  },
  {
   "cell_type": "markdown",
   "id": "24d6f1b7",
   "metadata": {},
   "source": [
    "### Top Layer(Pooling+Flatten+Dense+Dropout+Dense)"
   ]
  },
  {
   "cell_type": "code",
   "execution_count": 26,
   "id": "17085213",
   "metadata": {},
   "outputs": [],
   "source": [
    "from tensorflow.keras.layers import AveragePooling2D\n",
    "from tensorflow.keras.layers import Dropout\n",
    "from tensorflow.keras.layers import Flatten\n",
    "from tensorflow.keras.layers import Dense"
   ]
  },
  {
   "cell_type": "code",
   "execution_count": 27,
   "id": "42286061",
   "metadata": {},
   "outputs": [],
   "source": [
    "headModel = base_model.output\n",
    "headModel = AveragePooling2D(pool_size=(7, 7))(headModel)   #remove less relevant features\n",
    "headModel = Flatten(name=\"flatten\")(headModel)              #converts input to 1D->required form of dense input\n",
    "headModel = Dense(128, activation=\"relu\")(headModel)        #relu: for non-linear\n",
    "headModel = Dropout(0.5)(headModel)                         #model learning from same set, hence 50% neurons dropped per pass to prevent overfitting\n",
    "headModel = Dense(2, activation=\"softmax\")(headModel)       #softmax for O/P layer: probability based activation function, between 0 & 1"
   ]
  },
  {
   "cell_type": "code",
   "execution_count": 28,
   "id": "a4866c72",
   "metadata": {},
   "outputs": [],
   "source": [
    "from tensorflow.keras.models import Model"
   ]
  },
  {
   "cell_type": "code",
   "execution_count": 29,
   "id": "8466a94f",
   "metadata": {},
   "outputs": [],
   "source": [
    "model = Model(inputs=base_model.input, outputs=headModel)"
   ]
  },
  {
   "cell_type": "code",
   "execution_count": 30,
   "id": "1361f231",
   "metadata": {},
   "outputs": [],
   "source": [
    "for layer in base_model.layers:\n",
    "\tlayer.trainable = False"
   ]
  },
  {
   "cell_type": "markdown",
   "id": "7867dd6c",
   "metadata": {},
   "source": [
    "### Compiling"
   ]
  },
  {
   "cell_type": "code",
   "execution_count": 31,
   "id": "389b27c5",
   "metadata": {},
   "outputs": [],
   "source": [
    "from tensorflow.keras.optimizers import Adam"
   ]
  },
  {
   "cell_type": "code",
   "execution_count": 32,
   "id": "bfc6418d",
   "metadata": {},
   "outputs": [
    {
     "name": "stderr",
     "output_type": "stream",
     "text": [
      "c:\\Python310\\lib\\site-packages\\keras\\optimizers\\optimizer_v2\\adam.py:114: UserWarning: The `lr` argument is deprecated, use `learning_rate` instead.\n",
      "  super().__init__(name, **kwargs)\n"
     ]
    }
   ],
   "source": [
    "optim = Adam(lr=Learning_rate, decay=Learning_rate/ Epochs)\n",
    "model.compile(loss=\"binary_crossentropy\", optimizer=optim,metrics=[\"accuracy\"])\n",
    "#optimiser: decides how weights will be updated in back propagation"
   ]
  },
  {
   "cell_type": "code",
   "execution_count": 33,
   "id": "a6ac8217",
   "metadata": {},
   "outputs": [
    {
     "name": "stdout",
     "output_type": "stream",
     "text": [
      "Epoch 1/15\n",
      "21/21 [==============================] - 36s 1s/step - loss: 0.3068 - accuracy: 0.8695 - val_loss: 0.1416 - val_accuracy: 0.9343\n",
      "Epoch 2/15\n",
      "21/21 [==============================] - 29s 1s/step - loss: 0.1088 - accuracy: 0.9655 - val_loss: 0.0586 - val_accuracy: 0.9708\n",
      "Epoch 3/15\n",
      "21/21 [==============================] - 27s 1s/step - loss: 0.0720 - accuracy: 0.9789 - val_loss: 0.0277 - val_accuracy: 0.9927\n",
      "Epoch 4/15\n",
      "21/21 [==============================] - 28s 1s/step - loss: 0.0456 - accuracy: 0.9942 - val_loss: 0.0183 - val_accuracy: 0.9927\n",
      "Epoch 5/15\n",
      "21/21 [==============================] - 25s 1s/step - loss: 0.0345 - accuracy: 0.9904 - val_loss: 0.0128 - val_accuracy: 0.9927\n",
      "Epoch 6/15\n",
      "21/21 [==============================] - 27s 1s/step - loss: 0.0431 - accuracy: 0.9808 - val_loss: 0.0094 - val_accuracy: 1.0000\n",
      "Epoch 7/15\n",
      "21/21 [==============================] - 27s 1s/step - loss: 0.0277 - accuracy: 0.9923 - val_loss: 0.0089 - val_accuracy: 0.9927\n",
      "Epoch 8/15\n",
      "21/21 [==============================] - 30s 1s/step - loss: 0.0236 - accuracy: 0.9942 - val_loss: 0.0158 - val_accuracy: 0.9927\n",
      "Epoch 9/15\n",
      "21/21 [==============================] - 29s 1s/step - loss: 0.0223 - accuracy: 0.9923 - val_loss: 0.0097 - val_accuracy: 0.9927\n",
      "Epoch 10/15\n",
      "21/21 [==============================] - 26s 1s/step - loss: 0.0138 - accuracy: 0.9962 - val_loss: 0.0041 - val_accuracy: 1.0000\n",
      "Epoch 11/15\n",
      "21/21 [==============================] - 27s 1s/step - loss: 0.0181 - accuracy: 0.9942 - val_loss: 0.0095 - val_accuracy: 0.9927\n",
      "Epoch 12/15\n",
      "21/21 [==============================] - 28s 1s/step - loss: 0.0090 - accuracy: 1.0000 - val_loss: 0.0047 - val_accuracy: 1.0000\n",
      "Epoch 13/15\n",
      "21/21 [==============================] - 27s 1s/step - loss: 0.0173 - accuracy: 0.9904 - val_loss: 0.0177 - val_accuracy: 0.9927\n",
      "Epoch 14/15\n",
      "21/21 [==============================] - 28s 1s/step - loss: 0.0144 - accuracy: 0.9942 - val_loss: 0.0044 - val_accuracy: 1.0000\n",
      "Epoch 15/15\n",
      "21/21 [==============================] - 27s 1s/step - loss: 0.0108 - accuracy: 0.9981 - val_loss: 0.0089 - val_accuracy: 0.9927\n"
     ]
    }
   ],
   "source": [
    "H = model.fit(\n",
    "    aug.flow(X_train, y_train, batch_size=BS),\n",
    "    steps_per_epoch=len(X_train) // BS,\n",
    "    validation_data=(X_test,y_test),\n",
    "    validation_steps=len(X_test) // BS,\n",
    "    epochs=Epochs)"
   ]
  },
  {
   "cell_type": "markdown",
   "id": "aaf045a9",
   "metadata": {},
   "source": [
    "### Predictions"
   ]
  },
  {
   "cell_type": "code",
   "execution_count": 34,
   "id": "f09a7a85",
   "metadata": {},
   "outputs": [
    {
     "name": "stdout",
     "output_type": "stream",
     "text": [
      "6/6 [==============================] - 6s 869ms/step\n"
     ]
    }
   ],
   "source": [
    "predictions = model.predict(X_test, batch_size=BS)"
   ]
  },
  {
   "cell_type": "code",
   "execution_count": 35,
   "id": "d3e9ae53",
   "metadata": {},
   "outputs": [],
   "source": [
    "predictions = np.argmax(predictions, axis=1)"
   ]
  },
  {
   "cell_type": "code",
   "execution_count": 36,
   "id": "2b9d3dd9",
   "metadata": {},
   "outputs": [],
   "source": [
    "from sklearn.metrics import classification_report"
   ]
  },
  {
   "cell_type": "code",
   "execution_count": 37,
   "id": "b36d5405",
   "metadata": {},
   "outputs": [
    {
     "data": {
      "text/plain": [
       "(224, 224, 3)"
      ]
     },
     "execution_count": 37,
     "metadata": {},
     "output_type": "execute_result"
    }
   ],
   "source": [
    "X_test[1].shape"
   ]
  },
  {
   "cell_type": "code",
   "execution_count": 38,
   "id": "94cfa4c0",
   "metadata": {},
   "outputs": [
    {
     "name": "stdout",
     "output_type": "stream",
     "text": [
      "               precision    recall  f1-score   support\n",
      "\n",
      "   with_knife       0.99      1.00      1.00       117\n",
      "without_knife       1.00      0.95      0.97        20\n",
      "\n",
      "     accuracy                           0.99       137\n",
      "    macro avg       1.00      0.97      0.99       137\n",
      " weighted avg       0.99      0.99      0.99       137\n",
      "\n"
     ]
    }
   ],
   "source": [
    "print(classification_report(y_test.argmax(axis=1), predictions,target_names=lb.classes_))"
   ]
  },
  {
   "cell_type": "markdown",
   "id": "09444129",
   "metadata": {},
   "source": [
    "### Saving the model"
   ]
  },
  {
   "cell_type": "code",
   "execution_count": 39,
   "id": "5b22c1ae",
   "metadata": {},
   "outputs": [],
   "source": [
    "model.save(\"knife_detector.model5\", save_format=\"h5\")"
   ]
  },
  {
   "cell_type": "code",
   "execution_count": 40,
   "id": "10783acb",
   "metadata": {},
   "outputs": [],
   "source": [
    "import matplotlib.pyplot as plt"
   ]
  },
  {
   "cell_type": "code",
   "execution_count": 41,
   "id": "80843549",
   "metadata": {},
   "outputs": [
    {
     "data": {
      "text/plain": [
       "<matplotlib.legend.Legend at 0x20b37fe71f0>"
      ]
     },
     "execution_count": 41,
     "metadata": {},
     "output_type": "execute_result"
    },
    {
     "data": {
      "image/png": "[encoded data removed]",
      "text/plain": [
       "<Figure size 640x480 with 1 Axes>"
      ]
     },
     "metadata": {},
     "output_type": "display_data"
    }
   ],
   "source": [
    "N = Epochs\n",
    "plt.style.use(\"ggplot\")\n",
    "plt.figure()\n",
    "plt.plot(np.arange(0, N), H.history[\"loss\"], label=\"train_loss\")\n",
    "plt.plot(np.arange(0, N), H.history[\"val_loss\"], label=\"val_loss\")\n",
    "plt.plot(np.arange(0, N), H.history[\"accuracy\"], label=\"train_acc\")\n",
    "plt.plot(np.arange(0, N), H.history[\"val_accuracy\"], label=\"val_acc\")\n",
    "plt.title(\"Training Loss and Accuracy\")\n",
    "plt.xlabel(\"Epoch #\")\n",
    "plt.ylabel(\"Loss/Accuracy\")\n",
    "plt.legend(loc=\"lower left\")\n",
    "\n",
    "plt.savefig('plot.png')"
   ]
  },
  {
   "cell_type": "code",
   "execution_count": null,
   "id": "85c59032",
   "metadata": {},
   "outputs": [],
   "source": []
  },
  {
   "cell_type": "code",
   "execution_count": null,
   "id": "ed86fe3b",
   "metadata": {},
   "outputs": [],
   "source": []
  }
 ],
 "metadata": {
  "kernelspec": {
   "display_name": "Python 3.10.0 64-bit",
   "language": "python",
   "name": "python3"
  },
  "language_info": {
   "codemirror_mode": {
    "name": "ipython",
    "version": 3
   },
   "file_extension": ".py",
   "mimetype": "text/x-python",
   "name": "python",
   "nbconvert_exporter": "python",
   "pygments_lexer": "ipython3",
   "version": "3.10.0"
  },
  "vscode": {
   "interpreter": {
    "hash": "369f2c481f4da34e4445cda3fffd2e751bd1c4d706f27375911949ba6bb62e1c"
   }
  }
 },
 "nbformat": 4,
 "nbformat_minor": 5
}
